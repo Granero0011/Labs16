{
  "nbformat": 4,
  "nbformat_minor": 0,
  "metadata": {
    "kernelspec": {
      "display_name": "Python 3",
      "language": "python",
      "name": "python3"
    },
    "language_info": {
      "codemirror_mode": {
        "name": "ipython",
        "version": 3
      },
      "file_extension": ".py",
      "mimetype": "text/x-python",
      "name": "python",
      "nbconvert_exporter": "python",
      "pygments_lexer": "ipython3",
      "version": "3.7.3"
    },
    "colab": {
      "name": "airbnbmodel.ipynb",
      "provenance": [],
      "include_colab_link": true
    }
  },
  "cells": [
    {
      "cell_type": "markdown",
      "metadata": {
        "id": "view-in-github",
        "colab_type": "text"
      },
      "source": [
        "<a href=\"https://colab.research.google.com/github/Granero0011/Labs16/blob/master/airbnbmodel.ipynb\" target=\"_parent\"><img src=\"https://colab.research.google.com/assets/colab-badge.svg\" alt=\"Open In Colab\"/></a>"
      ]
    },
    {
      "cell_type": "markdown",
      "metadata": {
        "id": "AOb-khp3gbj7",
        "colab_type": "text"
      },
      "source": [
        "# Imports and Display Options"
      ]
    },
    {
      "cell_type": "code",
      "metadata": {
        "id": "97xpxVhTgbj8",
        "colab_type": "code",
        "colab": {}
      },
      "source": [
        "import pandas as pd\n",
        "from sklearn.preprocessing import OrdinalEncoder\n",
        "from sklearn.model_selection import train_test_split\n",
        "from sklearn.linear_model import LinearRegression\n",
        "import numpy as np\n",
        "import scipy.optimize.nnls as nnls"
      ],
      "execution_count": 0,
      "outputs": []
    },
    {
      "cell_type": "code",
      "metadata": {
        "id": "qhwIGh61gbkA",
        "colab_type": "code",
        "colab": {}
      },
      "source": [
        "pd.set_option('display.max_rows', 20000)\n",
        "pd.set_option('display.max_columns', 20000)"
      ],
      "execution_count": 0,
      "outputs": []
    },
    {
      "cell_type": "code",
      "metadata": {
        "id": "7RJyfdzkjuiA",
        "colab_type": "code",
        "colab": {
          "resources": {
            "http://localhost:8080/nbextensions/google.colab/files.js": {
              "data": "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",
              "ok": true,
              "headers": [
                [
                  "content-type",
                  "application/javascript"
                ]
              ],
              "status": 200,
              "status_text": ""
            }
          },
          "base_uri": "https://localhost:8080/",
          "height": 74
        },
        "outputId": "f0ddf802-548b-4126-d06c-6d9ae4fee4f8"
      },
      "source": [
        "from google.colab import files\n",
        "\n",
        "uploaded = files.upload()"
      ],
      "execution_count": 8,
      "outputs": [
        {
          "output_type": "display_data",
          "data": {
            "text/html": [
              "\n",
              "     <input type=\"file\" id=\"files-228ad1e3-43c5-477f-bcaa-aeaa3d4c1ea7\" name=\"files[]\" multiple disabled />\n",
              "     <output id=\"result-228ad1e3-43c5-477f-bcaa-aeaa3d4c1ea7\">\n",
              "      Upload widget is only available when the cell has been executed in the\n",
              "      current browser session. Please rerun this cell to enable.\n",
              "      </output>\n",
              "      <script src=\"/nbextensions/google.colab/files.js\"></script> "
            ],
            "text/plain": [
              "<IPython.core.display.HTML object>"
            ]
          },
          "metadata": {
            "tags": []
          }
        },
        {
          "output_type": "stream",
          "text": [
            "Saving listings.csv to listings.csv\n"
          ],
          "name": "stdout"
        }
      ]
    },
    {
      "cell_type": "code",
      "metadata": {
        "id": "vGEE92cEj8lv",
        "colab_type": "code",
        "colab": {
          "base_uri": "https://localhost:8080/",
          "height": 51
        },
        "outputId": "36f41c7e-b207-4b29-e8fb-7eb06fa3478c"
      },
      "source": [
        "import io\n",
        "df2 = pd.read_csv(io.BytesIO(uploaded['listings.csv']))"
      ],
      "execution_count": 9,
      "outputs": [
        {
          "output_type": "stream",
          "text": [
            "/usr/local/lib/python3.6/dist-packages/IPython/core/interactiveshell.py:2718: DtypeWarning: Columns (94) have mixed types. Specify dtype option on import or set low_memory=False.\n",
            "  interactivity=interactivity, compiler=compiler, result=result)\n"
          ],
          "name": "stderr"
        }
      ]
    },
    {
      "cell_type": "markdown",
      "metadata": {
        "id": "PTcLbCkWgbkD",
        "colab_type": "text"
      },
      "source": [
        "# Dataframes"
      ]
    },
    {
      "cell_type": "code",
      "metadata": {
        "id": "qOlwULNYgbkE",
        "colab_type": "code",
        "colab": {
          "base_uri": "https://localhost:8080/",
          "height": 391
        },
        "outputId": "f775d107-11ba-4665-8984-5d397a971849"
      },
      "source": [
        "#df = pd.read_csv(\"listings.csv\")\n",
        "#df2 = pd.read_csv(\"listings.csv.gz\")               "
      ],
      "execution_count": 4,
      "outputs": [
        {
          "output_type": "error",
          "ename": "FileNotFoundError",
          "evalue": "ignored",
          "traceback": [
            "\u001b[0;31m---------------------------------------------------------------------------\u001b[0m",
            "\u001b[0;31mFileNotFoundError\u001b[0m                         Traceback (most recent call last)",
            "\u001b[0;32m<ipython-input-4-3ff163ec4369>\u001b[0m in \u001b[0;36m<module>\u001b[0;34m()\u001b[0m\n\u001b[0;32m----> 1\u001b[0;31m \u001b[0mdf\u001b[0m \u001b[0;34m=\u001b[0m \u001b[0mpd\u001b[0m\u001b[0;34m.\u001b[0m\u001b[0mread_csv\u001b[0m\u001b[0;34m(\u001b[0m\u001b[0;34m\"listings.csv\"\u001b[0m\u001b[0;34m)\u001b[0m\u001b[0;34m\u001b[0m\u001b[0;34m\u001b[0m\u001b[0m\n\u001b[0m\u001b[1;32m      2\u001b[0m \u001b[0mdf2\u001b[0m \u001b[0;34m=\u001b[0m \u001b[0mpd\u001b[0m\u001b[0;34m.\u001b[0m\u001b[0mread_csv\u001b[0m\u001b[0;34m(\u001b[0m\u001b[0;34m\"listings.csv.gz\"\u001b[0m\u001b[0;34m)\u001b[0m\u001b[0;34m\u001b[0m\u001b[0;34m\u001b[0m\u001b[0m\n",
            "\u001b[0;32m/usr/local/lib/python3.6/dist-packages/pandas/io/parsers.py\u001b[0m in \u001b[0;36mparser_f\u001b[0;34m(filepath_or_buffer, sep, delimiter, header, names, index_col, usecols, squeeze, prefix, mangle_dupe_cols, dtype, engine, converters, true_values, false_values, skipinitialspace, skiprows, skipfooter, nrows, na_values, keep_default_na, na_filter, verbose, skip_blank_lines, parse_dates, infer_datetime_format, keep_date_col, date_parser, dayfirst, iterator, chunksize, compression, thousands, decimal, lineterminator, quotechar, quoting, doublequote, escapechar, comment, encoding, dialect, tupleize_cols, error_bad_lines, warn_bad_lines, delim_whitespace, low_memory, memory_map, float_precision)\u001b[0m\n\u001b[1;32m    700\u001b[0m                     skip_blank_lines=skip_blank_lines)\n\u001b[1;32m    701\u001b[0m \u001b[0;34m\u001b[0m\u001b[0m\n\u001b[0;32m--> 702\u001b[0;31m         \u001b[0;32mreturn\u001b[0m \u001b[0m_read\u001b[0m\u001b[0;34m(\u001b[0m\u001b[0mfilepath_or_buffer\u001b[0m\u001b[0;34m,\u001b[0m \u001b[0mkwds\u001b[0m\u001b[0;34m)\u001b[0m\u001b[0;34m\u001b[0m\u001b[0;34m\u001b[0m\u001b[0m\n\u001b[0m\u001b[1;32m    703\u001b[0m \u001b[0;34m\u001b[0m\u001b[0m\n\u001b[1;32m    704\u001b[0m     \u001b[0mparser_f\u001b[0m\u001b[0;34m.\u001b[0m\u001b[0m__name__\u001b[0m \u001b[0;34m=\u001b[0m \u001b[0mname\u001b[0m\u001b[0;34m\u001b[0m\u001b[0;34m\u001b[0m\u001b[0m\n",
            "\u001b[0;32m/usr/local/lib/python3.6/dist-packages/pandas/io/parsers.py\u001b[0m in \u001b[0;36m_read\u001b[0;34m(filepath_or_buffer, kwds)\u001b[0m\n\u001b[1;32m    427\u001b[0m \u001b[0;34m\u001b[0m\u001b[0m\n\u001b[1;32m    428\u001b[0m     \u001b[0;31m# Create the parser.\u001b[0m\u001b[0;34m\u001b[0m\u001b[0;34m\u001b[0m\u001b[0;34m\u001b[0m\u001b[0m\n\u001b[0;32m--> 429\u001b[0;31m     \u001b[0mparser\u001b[0m \u001b[0;34m=\u001b[0m \u001b[0mTextFileReader\u001b[0m\u001b[0;34m(\u001b[0m\u001b[0mfilepath_or_buffer\u001b[0m\u001b[0;34m,\u001b[0m \u001b[0;34m**\u001b[0m\u001b[0mkwds\u001b[0m\u001b[0;34m)\u001b[0m\u001b[0;34m\u001b[0m\u001b[0;34m\u001b[0m\u001b[0m\n\u001b[0m\u001b[1;32m    430\u001b[0m \u001b[0;34m\u001b[0m\u001b[0m\n\u001b[1;32m    431\u001b[0m     \u001b[0;32mif\u001b[0m \u001b[0mchunksize\u001b[0m \u001b[0;32mor\u001b[0m \u001b[0miterator\u001b[0m\u001b[0;34m:\u001b[0m\u001b[0;34m\u001b[0m\u001b[0;34m\u001b[0m\u001b[0m\n",
            "\u001b[0;32m/usr/local/lib/python3.6/dist-packages/pandas/io/parsers.py\u001b[0m in \u001b[0;36m__init__\u001b[0;34m(self, f, engine, **kwds)\u001b[0m\n\u001b[1;32m    893\u001b[0m             \u001b[0mself\u001b[0m\u001b[0;34m.\u001b[0m\u001b[0moptions\u001b[0m\u001b[0;34m[\u001b[0m\u001b[0;34m'has_index_names'\u001b[0m\u001b[0;34m]\u001b[0m \u001b[0;34m=\u001b[0m \u001b[0mkwds\u001b[0m\u001b[0;34m[\u001b[0m\u001b[0;34m'has_index_names'\u001b[0m\u001b[0;34m]\u001b[0m\u001b[0;34m\u001b[0m\u001b[0;34m\u001b[0m\u001b[0m\n\u001b[1;32m    894\u001b[0m \u001b[0;34m\u001b[0m\u001b[0m\n\u001b[0;32m--> 895\u001b[0;31m         \u001b[0mself\u001b[0m\u001b[0;34m.\u001b[0m\u001b[0m_make_engine\u001b[0m\u001b[0;34m(\u001b[0m\u001b[0mself\u001b[0m\u001b[0;34m.\u001b[0m\u001b[0mengine\u001b[0m\u001b[0;34m)\u001b[0m\u001b[0;34m\u001b[0m\u001b[0;34m\u001b[0m\u001b[0m\n\u001b[0m\u001b[1;32m    896\u001b[0m \u001b[0;34m\u001b[0m\u001b[0m\n\u001b[1;32m    897\u001b[0m     \u001b[0;32mdef\u001b[0m \u001b[0mclose\u001b[0m\u001b[0;34m(\u001b[0m\u001b[0mself\u001b[0m\u001b[0;34m)\u001b[0m\u001b[0;34m:\u001b[0m\u001b[0;34m\u001b[0m\u001b[0;34m\u001b[0m\u001b[0m\n",
            "\u001b[0;32m/usr/local/lib/python3.6/dist-packages/pandas/io/parsers.py\u001b[0m in \u001b[0;36m_make_engine\u001b[0;34m(self, engine)\u001b[0m\n\u001b[1;32m   1120\u001b[0m     \u001b[0;32mdef\u001b[0m \u001b[0m_make_engine\u001b[0m\u001b[0;34m(\u001b[0m\u001b[0mself\u001b[0m\u001b[0;34m,\u001b[0m \u001b[0mengine\u001b[0m\u001b[0;34m=\u001b[0m\u001b[0;34m'c'\u001b[0m\u001b[0;34m)\u001b[0m\u001b[0;34m:\u001b[0m\u001b[0;34m\u001b[0m\u001b[0;34m\u001b[0m\u001b[0m\n\u001b[1;32m   1121\u001b[0m         \u001b[0;32mif\u001b[0m \u001b[0mengine\u001b[0m \u001b[0;34m==\u001b[0m \u001b[0;34m'c'\u001b[0m\u001b[0;34m:\u001b[0m\u001b[0;34m\u001b[0m\u001b[0;34m\u001b[0m\u001b[0m\n\u001b[0;32m-> 1122\u001b[0;31m             \u001b[0mself\u001b[0m\u001b[0;34m.\u001b[0m\u001b[0m_engine\u001b[0m \u001b[0;34m=\u001b[0m \u001b[0mCParserWrapper\u001b[0m\u001b[0;34m(\u001b[0m\u001b[0mself\u001b[0m\u001b[0;34m.\u001b[0m\u001b[0mf\u001b[0m\u001b[0;34m,\u001b[0m \u001b[0;34m**\u001b[0m\u001b[0mself\u001b[0m\u001b[0;34m.\u001b[0m\u001b[0moptions\u001b[0m\u001b[0;34m)\u001b[0m\u001b[0;34m\u001b[0m\u001b[0;34m\u001b[0m\u001b[0m\n\u001b[0m\u001b[1;32m   1123\u001b[0m         \u001b[0;32melse\u001b[0m\u001b[0;34m:\u001b[0m\u001b[0;34m\u001b[0m\u001b[0;34m\u001b[0m\u001b[0m\n\u001b[1;32m   1124\u001b[0m             \u001b[0;32mif\u001b[0m \u001b[0mengine\u001b[0m \u001b[0;34m==\u001b[0m \u001b[0;34m'python'\u001b[0m\u001b[0;34m:\u001b[0m\u001b[0;34m\u001b[0m\u001b[0;34m\u001b[0m\u001b[0m\n",
            "\u001b[0;32m/usr/local/lib/python3.6/dist-packages/pandas/io/parsers.py\u001b[0m in \u001b[0;36m__init__\u001b[0;34m(self, src, **kwds)\u001b[0m\n\u001b[1;32m   1851\u001b[0m         \u001b[0mkwds\u001b[0m\u001b[0;34m[\u001b[0m\u001b[0;34m'usecols'\u001b[0m\u001b[0;34m]\u001b[0m \u001b[0;34m=\u001b[0m \u001b[0mself\u001b[0m\u001b[0;34m.\u001b[0m\u001b[0musecols\u001b[0m\u001b[0;34m\u001b[0m\u001b[0;34m\u001b[0m\u001b[0m\n\u001b[1;32m   1852\u001b[0m \u001b[0;34m\u001b[0m\u001b[0m\n\u001b[0;32m-> 1853\u001b[0;31m         \u001b[0mself\u001b[0m\u001b[0;34m.\u001b[0m\u001b[0m_reader\u001b[0m \u001b[0;34m=\u001b[0m \u001b[0mparsers\u001b[0m\u001b[0;34m.\u001b[0m\u001b[0mTextReader\u001b[0m\u001b[0;34m(\u001b[0m\u001b[0msrc\u001b[0m\u001b[0;34m,\u001b[0m \u001b[0;34m**\u001b[0m\u001b[0mkwds\u001b[0m\u001b[0;34m)\u001b[0m\u001b[0;34m\u001b[0m\u001b[0;34m\u001b[0m\u001b[0m\n\u001b[0m\u001b[1;32m   1854\u001b[0m         \u001b[0mself\u001b[0m\u001b[0;34m.\u001b[0m\u001b[0munnamed_cols\u001b[0m \u001b[0;34m=\u001b[0m \u001b[0mself\u001b[0m\u001b[0;34m.\u001b[0m\u001b[0m_reader\u001b[0m\u001b[0;34m.\u001b[0m\u001b[0munnamed_cols\u001b[0m\u001b[0;34m\u001b[0m\u001b[0;34m\u001b[0m\u001b[0m\n\u001b[1;32m   1855\u001b[0m \u001b[0;34m\u001b[0m\u001b[0m\n",
            "\u001b[0;32mpandas/_libs/parsers.pyx\u001b[0m in \u001b[0;36mpandas._libs.parsers.TextReader.__cinit__\u001b[0;34m()\u001b[0m\n",
            "\u001b[0;32mpandas/_libs/parsers.pyx\u001b[0m in \u001b[0;36mpandas._libs.parsers.TextReader._setup_parser_source\u001b[0;34m()\u001b[0m\n",
            "\u001b[0;31mFileNotFoundError\u001b[0m: [Errno 2] File b'listings.csv' does not exist: b'listings.csv'"
          ]
        }
      ]
    },
    {
      "cell_type": "code",
      "metadata": {
        "id": "DLQhFj16gbkI",
        "colab_type": "code",
        "colab": {}
      },
      "source": [
        "#features used in model\n",
        "features = ['id', 'bedrooms', 'bathrooms', 'amenities', 'price']\n",
        "#model dataframe\n",
        "model_df = df2[features]\n",
        "#model data, remove empty amenities\n",
        "model_data = model_df[(model_df['amenities'] != '{}') & (model_df['bedrooms'] != 0) & (model_df['bathrooms'] != 0)]"
      ],
      "execution_count": 0,
      "outputs": []
    },
    {
      "cell_type": "markdown",
      "metadata": {
        "id": "ZXeryUZigbkM",
        "colab_type": "text"
      },
      "source": [
        "# Helper functions"
      ]
    },
    {
      "cell_type": "code",
      "metadata": {
        "id": "W35HZotQgbkN",
        "colab_type": "code",
        "colab": {
          "base_uri": "https://localhost:8080/",
          "height": 204
        },
        "outputId": "2e96cd79-b98b-453d-e1b3-6a78fc936e53"
      },
      "source": [
        "model_data.head()"
      ],
      "execution_count": 11,
      "outputs": [
        {
          "output_type": "execute_result",
          "data": {
            "text/html": [
              "<div>\n",
              "<style scoped>\n",
              "    .dataframe tbody tr th:only-of-type {\n",
              "        vertical-align: middle;\n",
              "    }\n",
              "\n",
              "    .dataframe tbody tr th {\n",
              "        vertical-align: top;\n",
              "    }\n",
              "\n",
              "    .dataframe thead th {\n",
              "        text-align: right;\n",
              "    }\n",
              "</style>\n",
              "<table border=\"1\" class=\"dataframe\">\n",
              "  <thead>\n",
              "    <tr style=\"text-align: right;\">\n",
              "      <th></th>\n",
              "      <th>id</th>\n",
              "      <th>bedrooms</th>\n",
              "      <th>bathrooms</th>\n",
              "      <th>amenities</th>\n",
              "      <th>price</th>\n",
              "    </tr>\n",
              "  </thead>\n",
              "  <tbody>\n",
              "    <tr>\n",
              "      <th>0</th>\n",
              "      <td>2818</td>\n",
              "      <td>1.0</td>\n",
              "      <td>1.5</td>\n",
              "      <td>{Internet,Wifi,\"Paid parking off premises\",\"Bu...</td>\n",
              "      <td>$59.00</td>\n",
              "    </tr>\n",
              "    <tr>\n",
              "      <th>1</th>\n",
              "      <td>20168</td>\n",
              "      <td>1.0</td>\n",
              "      <td>1.0</td>\n",
              "      <td>{TV,Internet,Wifi,\"Paid parking off premises\",...</td>\n",
              "      <td>$80.00</td>\n",
              "    </tr>\n",
              "    <tr>\n",
              "      <th>2</th>\n",
              "      <td>25428</td>\n",
              "      <td>1.0</td>\n",
              "      <td>1.0</td>\n",
              "      <td>{TV,\"Cable TV\",Internet,Wifi,Kitchen,Elevator,...</td>\n",
              "      <td>$125.00</td>\n",
              "    </tr>\n",
              "    <tr>\n",
              "      <th>3</th>\n",
              "      <td>27886</td>\n",
              "      <td>1.0</td>\n",
              "      <td>1.0</td>\n",
              "      <td>{TV,Internet,Wifi,Breakfast,Heating,\"Smoke det...</td>\n",
              "      <td>$150.00</td>\n",
              "    </tr>\n",
              "    <tr>\n",
              "      <th>4</th>\n",
              "      <td>28871</td>\n",
              "      <td>1.0</td>\n",
              "      <td>NaN</td>\n",
              "      <td>{Internet,Wifi,\"Pets live on this property\",Ca...</td>\n",
              "      <td>$75.00</td>\n",
              "    </tr>\n",
              "  </tbody>\n",
              "</table>\n",
              "</div>"
            ],
            "text/plain": [
              "      id  bedrooms  bathrooms  \\\n",
              "0   2818       1.0        1.5   \n",
              "1  20168       1.0        1.0   \n",
              "2  25428       1.0        1.0   \n",
              "3  27886       1.0        1.0   \n",
              "4  28871       1.0        NaN   \n",
              "\n",
              "                                           amenities    price  \n",
              "0  {Internet,Wifi,\"Paid parking off premises\",\"Bu...   $59.00  \n",
              "1  {TV,Internet,Wifi,\"Paid parking off premises\",...   $80.00  \n",
              "2  {TV,\"Cable TV\",Internet,Wifi,Kitchen,Elevator,...  $125.00  \n",
              "3  {TV,Internet,Wifi,Breakfast,Heating,\"Smoke det...  $150.00  \n",
              "4  {Internet,Wifi,\"Pets live on this property\",Ca...   $75.00  "
            ]
          },
          "metadata": {
            "tags": []
          },
          "execution_count": 11
        }
      ]
    },
    {
      "cell_type": "markdown",
      "metadata": {
        "id": "dZU3T_2NgbkR",
        "colab_type": "text"
      },
      "source": [
        "### Function that changes the amenities data in the dataframe from json to a list"
      ]
    },
    {
      "cell_type": "code",
      "metadata": {
        "id": "lZJCau8jgbkS",
        "colab_type": "code",
        "colab": {}
      },
      "source": [
        "def json_to_list(df):\n",
        "    new_data = []\n",
        "    data = df['amenities'].values\n",
        "    for num, amen in enumerate(data):\n",
        "        new_data.append([word.strip('\"') for word in amen.strip(\"{\").strip(\"}\").split(\",\")])\n",
        "    df['new_amenities'] = new_data\n",
        "    return df"
      ],
      "execution_count": 0,
      "outputs": []
    },
    {
      "cell_type": "code",
      "metadata": {
        "id": "PyHwJrUSgbkW",
        "colab_type": "code",
        "colab": {
          "base_uri": "https://localhost:8080/",
          "height": 119
        },
        "outputId": "c44fe971-6ac1-466f-8201-3b1570ac6f00"
      },
      "source": [
        "model_data = json_to_list(model_data)"
      ],
      "execution_count": 13,
      "outputs": [
        {
          "output_type": "stream",
          "text": [
            "/usr/local/lib/python3.6/dist-packages/ipykernel_launcher.py:6: SettingWithCopyWarning: \n",
            "A value is trying to be set on a copy of a slice from a DataFrame.\n",
            "Try using .loc[row_indexer,col_indexer] = value instead\n",
            "\n",
            "See the caveats in the documentation: http://pandas.pydata.org/pandas-docs/stable/indexing.html#indexing-view-versus-copy\n",
            "  \n"
          ],
          "name": "stderr"
        }
      ]
    },
    {
      "cell_type": "markdown",
      "metadata": {
        "id": "R-tWqeaogbka",
        "colab_type": "text"
      },
      "source": [
        "### Function that figures out the unique amenities"
      ]
    },
    {
      "cell_type": "code",
      "metadata": {
        "id": "Uj0QxjJsgbkb",
        "colab_type": "code",
        "colab": {}
      },
      "source": [
        "def unique_amenities(df, column):\n",
        "    uniques = []\n",
        "    for data in df[column]:\n",
        "        for d in data:\n",
        "            if d in uniques:\n",
        "                continue\n",
        "            else:\n",
        "                uniques.append(d)\n",
        "    return uniques"
      ],
      "execution_count": 0,
      "outputs": []
    },
    {
      "cell_type": "code",
      "metadata": {
        "id": "N26jodlGgbkf",
        "colab_type": "code",
        "colab": {}
      },
      "source": [
        "amenities = unique_amenities(model_data, 'new_amenities')"
      ],
      "execution_count": 0,
      "outputs": []
    },
    {
      "cell_type": "code",
      "metadata": {
        "collapsed": true,
        "jupyter": {
          "outputs_hidden": true
        },
        "id": "tpVFzT8Vgbki",
        "colab_type": "code",
        "colab": {
          "base_uri": "https://localhost:8080/",
          "height": 1000
        },
        "outputId": "8ef17a7f-6fa2-405e-dfe3-466b05c027b6"
      },
      "source": [
        "amenities"
      ],
      "execution_count": 16,
      "outputs": [
        {
          "output_type": "execute_result",
          "data": {
            "text/plain": [
              "['Internet',\n",
              " 'Wifi',\n",
              " 'Paid parking off premises',\n",
              " 'Buzzer/wireless intercom',\n",
              " 'Heating',\n",
              " 'Washer',\n",
              " 'Smoke detector',\n",
              " 'Carbon monoxide detector',\n",
              " 'First aid kit',\n",
              " 'Safety card',\n",
              " 'Fire extinguisher',\n",
              " 'Essentials',\n",
              " 'Shampoo',\n",
              " 'Lock on bedroom door',\n",
              " '24-hour check-in',\n",
              " 'Hangers',\n",
              " 'Hair dryer',\n",
              " 'Iron',\n",
              " 'Laptop friendly workspace',\n",
              " 'translation missing: en.hosting_amenity_49',\n",
              " 'translation missing: en.hosting_amenity_50',\n",
              " 'Private entrance',\n",
              " 'Hot water',\n",
              " 'Bed linens',\n",
              " 'Extra pillows and blankets',\n",
              " 'Single level home',\n",
              " 'Garden or backyard',\n",
              " 'No stairs or steps to enter',\n",
              " 'Flat path to guest entrance',\n",
              " 'Well-lit path to entrance',\n",
              " 'Accessible-height bed',\n",
              " 'Host greets you',\n",
              " 'Handheld shower head',\n",
              " 'Paid parking on premises',\n",
              " 'TV',\n",
              " 'Refrigerator',\n",
              " 'Long term stays allowed',\n",
              " 'Cable TV',\n",
              " 'Kitchen',\n",
              " 'Elevator',\n",
              " 'Indoor fireplace',\n",
              " 'Family/kid friendly',\n",
              " 'Dryer',\n",
              " 'Breakfast',\n",
              " 'Self check-in',\n",
              " 'Smart lock',\n",
              " 'Private living room',\n",
              " 'Lake access',\n",
              " 'Pets live on this property',\n",
              " 'Cat(s)',\n",
              " 'Smoking allowed',\n",
              " 'Pets allowed',\n",
              " 'Microwave',\n",
              " 'Coffee maker',\n",
              " 'Dishwasher',\n",
              " 'Dishes and silverware',\n",
              " 'Cooking basics',\n",
              " 'Oven',\n",
              " 'Stove',\n",
              " 'Patio or balcony',\n",
              " 'Baby bath',\n",
              " 'Hot tub',\n",
              " 'Bathtub',\n",
              " 'Babysitter recommendations',\n",
              " 'Beach essentials',\n",
              " 'Cleaning before checkout',\n",
              " 'Wide hallways',\n",
              " 'Wide entrance for guests',\n",
              " 'Disabled parking spot',\n",
              " 'EV charger',\n",
              " 'Pack ’n Play/travel crib',\n",
              " 'High chair',\n",
              " 'Crib',\n",
              " 'Luggage dropoff allowed',\n",
              " 'Children’s books and toys',\n",
              " 'Room-darkening shades',\n",
              " 'Children’s dinnerware',\n",
              " 'Other',\n",
              " 'Extra space around bed',\n",
              " 'Wheelchair accessible',\n",
              " 'Pocket wifi',\n",
              " 'Waterfront',\n",
              " 'Washer / Dryer',\n",
              " 'Window guards',\n",
              " 'Air conditioning',\n",
              " 'Suitable for events',\n",
              " 'Lockbox',\n",
              " 'Wide entrance',\n",
              " 'Wide doorway to guest bathroom',\n",
              " 'BBQ grill',\n",
              " 'Ground floor access',\n",
              " 'Dog(s)',\n",
              " 'Accessible-height toilet',\n",
              " 'Wide entryway',\n",
              " 'Hot water kettle',\n",
              " 'Ethernet connection',\n",
              " 'Free parking on premises',\n",
              " 'Wide clearance to shower',\n",
              " ' toilet',\n",
              " 'Roll-in shower',\n",
              " 'Outlet covers',\n",
              " 'Gym',\n",
              " 'Firm mattress',\n",
              " 'Baby monitor',\n",
              " 'Fixed grab bars for toilet',\n",
              " 'Changing table',\n",
              " 'Stair gates',\n",
              " 'Fireplace guards',\n",
              " 'Table corner guards',\n",
              " 'Keypad',\n",
              " 'Game console',\n",
              " 'Doorman',\n",
              " 'Building staff',\n",
              " 'Pool',\n",
              " 'Other pet(s)',\n",
              " 'Electric profiling bed',\n",
              " 'Bathtub with bath chair',\n",
              " 'Free street parking',\n",
              " 'Beachfront',\n",
              " 'Shower chair',\n",
              " 'Fixed grab bars for shower',\n",
              " 'Ski-in/Ski-out',\n",
              " 'Mobile hoist',\n",
              " 'Private bathroom',\n",
              " 'Air purifier']"
            ]
          },
          "metadata": {
            "tags": []
          },
          "execution_count": 16
        }
      ]
    },
    {
      "cell_type": "markdown",
      "metadata": {
        "id": "rhxzhzdRgbkm",
        "colab_type": "text"
      },
      "source": [
        "### Function that gathers the counts of every amenity"
      ]
    },
    {
      "cell_type": "code",
      "metadata": {
        "id": "yZVZ9EFggbkn",
        "colab_type": "code",
        "colab": {}
      },
      "source": [
        "def amen_counts(amen_lst, df, column):\n",
        "    counts = [0 for num in range(len(amen_lst))]\n",
        "    amen_data = df[column].values\n",
        "    for num, data in enumerate(amen_data):\n",
        "        for d in data:\n",
        "            num = amen_lst.index(d)\n",
        "            counts[num] += 1\n",
        "    return counts"
      ],
      "execution_count": 0,
      "outputs": []
    },
    {
      "cell_type": "code",
      "metadata": {
        "id": "0462gcaSgbkr",
        "colab_type": "code",
        "colab": {}
      },
      "source": [
        "counts = amen_counts(amenities, model_data, 'new_amenities')"
      ],
      "execution_count": 0,
      "outputs": []
    },
    {
      "cell_type": "markdown",
      "metadata": {
        "id": "p3QcALfOgbku",
        "colab_type": "text"
      },
      "source": [
        "### Function that returns top 20 amenities "
      ]
    },
    {
      "cell_type": "code",
      "metadata": {
        "id": "UrY1URXdgbkv",
        "colab_type": "code",
        "colab": {}
      },
      "source": [
        "def top_20(counts):\n",
        "    largest = sorted(counts)[-20:]\n",
        "    count_indexes = []\n",
        "    for l in largest:\n",
        "        count_indexes.append(counts.index(l))\n",
        "        amens = []\n",
        "    for c in count_indexes:\n",
        "        amens.append(amenities[c])\n",
        "    return largest, amens      "
      ],
      "execution_count": 0,
      "outputs": []
    },
    {
      "cell_type": "code",
      "metadata": {
        "id": "Ky5q3R0Kgbky",
        "colab_type": "code",
        "colab": {}
      },
      "source": [
        "largest, top = top_20(counts)"
      ],
      "execution_count": 0,
      "outputs": []
    },
    {
      "cell_type": "code",
      "metadata": {
        "id": "xwvnCQwVgbk2",
        "colab_type": "code",
        "colab": {
          "base_uri": "https://localhost:8080/",
          "height": 697
        },
        "outputId": "f431376e-6983-4839-f90a-066eec3eb652"
      },
      "source": [
        "largest, top"
      ],
      "execution_count": 21,
      "outputs": [
        {
          "output_type": "execute_result",
          "data": {
            "text/plain": [
              "([6641,\n",
              "  7252,\n",
              "  7473,\n",
              "  7745,\n",
              "  7919,\n",
              "  8128,\n",
              "  8791,\n",
              "  9231,\n",
              "  12715,\n",
              "  12779,\n",
              "  13000,\n",
              "  13107,\n",
              "  13792,\n",
              "  14746,\n",
              "  15093,\n",
              "  15358,\n",
              "  17496,\n",
              "  18457,\n",
              "  18548,\n",
              "  18691],\n",
              " ['Internet',\n",
              "  'First aid kit',\n",
              "  'Cable TV',\n",
              "  'Carbon monoxide detector',\n",
              "  'Family/kid friendly',\n",
              "  'Fire extinguisher',\n",
              "  'Dryer',\n",
              "  'Hot water',\n",
              "  'Hair dryer',\n",
              "  'Shampoo',\n",
              "  'Iron',\n",
              "  'Laptop friendly workspace',\n",
              "  'Hangers',\n",
              "  'Washer',\n",
              "  'TV',\n",
              "  'Smoke detector',\n",
              "  'Kitchen',\n",
              "  'Essentials',\n",
              "  'Heating',\n",
              "  'Wifi'])"
            ]
          },
          "metadata": {
            "tags": []
          },
          "execution_count": 21
        }
      ]
    },
    {
      "cell_type": "markdown",
      "metadata": {
        "id": "nkvohnMJgbk5",
        "colab_type": "text"
      },
      "source": [
        "### Function that create columns with only the top amenities"
      ]
    },
    {
      "cell_type": "code",
      "metadata": {
        "id": "tnGsosjbgbk7",
        "colab_type": "code",
        "colab": {}
      },
      "source": [
        "def reduce_dimensions(df, column, top):\n",
        "    all_data = []\n",
        "    all_strings = []\n",
        "    amens = df[column].values\n",
        "    bedrooms = df['bedrooms'].values\n",
        "    bathrooms = df['bathrooms'].values\n",
        "    for num, data in enumerate(amens):\n",
        "        new_data = []\n",
        "        new_string = \"\"\n",
        "        for d in data:\n",
        "            if d in top:\n",
        "                new_data.append(d)\n",
        "                new_string += d + \" \"\n",
        "            else:\n",
        "                continue\n",
        "        new_string += str(bedrooms[num])\n",
        "        new_string += str(bathrooms[num])\n",
        "        all_data.append(new_data)\n",
        "        all_strings.append(new_string)\n",
        "    df['Groups'] = all_strings\n",
        "    df['New_data'] = all_data\n",
        "    return df"
      ],
      "execution_count": 0,
      "outputs": []
    },
    {
      "cell_type": "code",
      "metadata": {
        "id": "jJMdrXxogbk-",
        "colab_type": "code",
        "colab": {
          "base_uri": "https://localhost:8080/",
          "height": 187
        },
        "outputId": "729872fa-3c14-47fb-e155-38284432058f"
      },
      "source": [
        "model_data = reduce_dimensions(model_data, \"new_amenities\", top)"
      ],
      "execution_count": 23,
      "outputs": [
        {
          "output_type": "stream",
          "text": [
            "/usr/local/lib/python3.6/dist-packages/ipykernel_launcher.py:20: SettingWithCopyWarning: \n",
            "A value is trying to be set on a copy of a slice from a DataFrame.\n",
            "Try using .loc[row_indexer,col_indexer] = value instead\n",
            "\n",
            "See the caveats in the documentation: http://pandas.pydata.org/pandas-docs/stable/indexing.html#indexing-view-versus-copy\n",
            "/usr/local/lib/python3.6/dist-packages/ipykernel_launcher.py:21: SettingWithCopyWarning: \n",
            "A value is trying to be set on a copy of a slice from a DataFrame.\n",
            "Try using .loc[row_indexer,col_indexer] = value instead\n",
            "\n",
            "See the caveats in the documentation: http://pandas.pydata.org/pandas-docs/stable/indexing.html#indexing-view-versus-copy\n"
          ],
          "name": "stderr"
        }
      ]
    },
    {
      "cell_type": "code",
      "metadata": {
        "id": "igHYK73PgblB",
        "colab_type": "code",
        "colab": {}
      },
      "source": [
        "model_data = model_data.dropna()"
      ],
      "execution_count": 0,
      "outputs": []
    },
    {
      "cell_type": "markdown",
      "metadata": {
        "id": "vhObj5EegblG",
        "colab_type": "text"
      },
      "source": [
        "### Grouping system"
      ]
    },
    {
      "cell_type": "code",
      "metadata": {
        "id": "rJpol1B6gblH",
        "colab_type": "code",
        "colab": {}
      },
      "source": [
        "encoder = OrdinalEncoder()"
      ],
      "execution_count": 0,
      "outputs": []
    },
    {
      "cell_type": "code",
      "metadata": {
        "id": "WSY_MTXxgblL",
        "colab_type": "code",
        "colab": {}
      },
      "source": [
        "groups = encoder.fit_transform(model_data[['Groups']].values)"
      ],
      "execution_count": 0,
      "outputs": []
    },
    {
      "cell_type": "code",
      "metadata": {
        "id": "sxhYLGY-gblO",
        "colab_type": "code",
        "colab": {}
      },
      "source": [
        "model_data['OrdinalGroups'] = groups"
      ],
      "execution_count": 0,
      "outputs": []
    },
    {
      "cell_type": "code",
      "metadata": {
        "id": "4QWi_4ZJgblR",
        "colab_type": "code",
        "colab": {}
      },
      "source": [
        "def optimal_pricing(df):\n",
        "    groups = [word for word in df['OrdinalGroups'].values]\n",
        "    ids = [word for word in df['id'].values]\n",
        "    prices = [word for word in df['id'].values]\n",
        "    for g in groups:\n",
        "        data = []\n",
        "        max_df = df[df['OrdinalGroups'] == g]\n",
        "        max_price = max_df['price'].max()\n",
        "        group_ids = [word for word in max_df['id'].values]\n",
        "        indexes = []\n",
        "        for i in group_ids:\n",
        "            indexes.append(ids.index(i))\n",
        "        for index in indexes:\n",
        "            prices[index] = max_price\n",
        "    df['price'] = prices\n",
        "    return df"
      ],
      "execution_count": 0,
      "outputs": []
    },
    {
      "cell_type": "code",
      "metadata": {
        "id": "R4HQ4rn9gblV",
        "colab_type": "code",
        "colab": {}
      },
      "source": [
        "df = optimal_pricing(model_data)"
      ],
      "execution_count": 0,
      "outputs": []
    },
    {
      "cell_type": "code",
      "metadata": {
        "id": "57j5mk_YgblY",
        "colab_type": "code",
        "colab": {}
      },
      "source": [
        "def string_to_int(df, column):\n",
        "    new_data = []\n",
        "    data = df[column].values\n",
        "    for d in data:\n",
        "        d = d.strip(\"$\")\n",
        "        d = d.replace(\",\", \"\")\n",
        "        d = d.split(\".\")[0]\n",
        "        d = int(d)\n",
        "        new_data.append(d)\n",
        "    new_data = np.array(new_data)\n",
        "    df[column] = new_data\n",
        "    return df"
      ],
      "execution_count": 0,
      "outputs": []
    },
    {
      "cell_type": "code",
      "metadata": {
        "id": "3cQNTPkEgblb",
        "colab_type": "code",
        "colab": {}
      },
      "source": [
        "df = string_to_int(df, \"price\")"
      ],
      "execution_count": 0,
      "outputs": []
    },
    {
      "cell_type": "code",
      "metadata": {
        "id": "92I0ilImgblf",
        "colab_type": "code",
        "colab": {}
      },
      "source": [
        "def onehotencoder(df, column, amen_lst):\n",
        "    for amen in amen_lst:\n",
        "        new_data = []\n",
        "        data = df[column].values\n",
        "        for d in data:\n",
        "            if amen in d:\n",
        "                new_data.append(1)\n",
        "            else:\n",
        "                new_data.append(0)\n",
        "        new_data = np.array(new_data)\n",
        "        df[amen] = new_data\n",
        "    return df"
      ],
      "execution_count": 0,
      "outputs": []
    },
    {
      "cell_type": "code",
      "metadata": {
        "id": "FxN8pdafgbli",
        "colab_type": "code",
        "colab": {}
      },
      "source": [
        "df = onehotencoder(df, \"New_data\",  top)"
      ],
      "execution_count": 0,
      "outputs": []
    },
    {
      "cell_type": "markdown",
      "metadata": {
        "id": "X9oB1DCOgblo",
        "colab_type": "text"
      },
      "source": [
        "# Model"
      ]
    },
    {
      "cell_type": "code",
      "metadata": {
        "id": "j0i_hUGAgblq",
        "colab_type": "code",
        "colab": {}
      },
      "source": [
        "features = top + [\"bedrooms\", \"bathrooms\"]\n",
        "target = 'price'\n",
        "draft_features = df[features]\n",
        "draft_target = df[target]"
      ],
      "execution_count": 0,
      "outputs": []
    },
    {
      "cell_type": "code",
      "metadata": {
        "id": "dPCDLWZPgblt",
        "colab_type": "code",
        "colab": {
          "base_uri": "https://localhost:8080/",
          "height": 34
        },
        "outputId": "ba35e06b-2ed0-4b68-a7be-2a6530a5fbd4"
      },
      "source": [
        "draft_features.shape, draft_target.shape"
      ],
      "execution_count": 35,
      "outputs": [
        {
          "output_type": "execute_result",
          "data": {
            "text/plain": [
              "((19134, 22), (19134,))"
            ]
          },
          "metadata": {
            "tags": []
          },
          "execution_count": 35
        }
      ]
    },
    {
      "cell_type": "code",
      "metadata": {
        "id": "axWtfC1zgbl0",
        "colab_type": "code",
        "colab": {}
      },
      "source": [
        "X_train, X_test, y_train, y_test = train_test_split(draft_features, draft_target, train_size = .8, test_size = .2, random_state= 42)"
      ],
      "execution_count": 0,
      "outputs": []
    },
    {
      "cell_type": "code",
      "metadata": {
        "id": "PcJu2KLRgbl3",
        "colab_type": "code",
        "colab": {
          "base_uri": "https://localhost:8080/",
          "height": 34
        },
        "outputId": "84378940-4fb8-4662-f465-d4de9c4d928b"
      },
      "source": [
        "X_train.shape, y_train.shape"
      ],
      "execution_count": 37,
      "outputs": [
        {
          "output_type": "execute_result",
          "data": {
            "text/plain": [
              "((15307, 22), (15307,))"
            ]
          },
          "metadata": {
            "tags": []
          },
          "execution_count": 37
        }
      ]
    },
    {
      "cell_type": "code",
      "metadata": {
        "id": "fW1VxkEMgbl7",
        "colab_type": "code",
        "colab": {
          "base_uri": "https://localhost:8080/",
          "height": 34
        },
        "outputId": "9d56e102-a7d4-42da-97c1-c3463e3daba1"
      },
      "source": [
        "model = LinearRegression()\n",
        "model.fit(draft_features, draft_target)"
      ],
      "execution_count": 38,
      "outputs": [
        {
          "output_type": "execute_result",
          "data": {
            "text/plain": [
              "LinearRegression(copy_X=True, fit_intercept=True, n_jobs=None, normalize=False)"
            ]
          },
          "metadata": {
            "tags": []
          },
          "execution_count": 38
        }
      ]
    },
    {
      "cell_type": "code",
      "metadata": {
        "id": "OdHJJpONgbl-",
        "colab_type": "code",
        "colab": {}
      },
      "source": [
        "def model_coefs():\n",
        "    coefs = model.coef_\n",
        "    positive_c = []\n",
        "    negative_c = []\n",
        "    positive_f = []\n",
        "    negative_f = []\n",
        "    for num, coef in enumerate(coefs):\n",
        "        if coef > 0:\n",
        "            positive_c.append(coef)\n",
        "            positive_f.append(features[num])\n",
        "        else:\n",
        "            negative_c.append(coef)\n",
        "            negative_f.append(features[num])\n",
        "    print(\"Positives\")\n",
        "    for num, p in enumerate(positive_c):\n",
        "        print(f\"Feature: {positive_f[num]}, Coef: {p}\")\n",
        "    print(\"Negatives\")\n",
        "    for num, p in enumerate(negative_c):\n",
        "        print(f\"Feature: {negative_f[num]}, Coef: {p}\")\n",
        "    return"
      ],
      "execution_count": 0,
      "outputs": []
    },
    {
      "cell_type": "code",
      "metadata": {
        "id": "rJMwG3MYgbmA",
        "colab_type": "code",
        "colab": {
          "base_uri": "https://localhost:8080/",
          "height": 425
        },
        "outputId": "7a5b67fa-433d-43b8-981d-d69e9928d0fc"
      },
      "source": [
        "model_coefs()"
      ],
      "execution_count": 40,
      "outputs": [
        {
          "output_type": "stream",
          "text": [
            "Positives\n",
            "Feature: First aid kit, Coef: 0.22997663736152418\n",
            "Feature: Cable TV, Coef: 12.052372914670153\n",
            "Feature: Carbon monoxide detector, Coef: 5.467200326838577\n",
            "Feature: Family/kid friendly, Coef: 1.8739322485326704\n",
            "Feature: Fire extinguisher, Coef: 14.830987898157945\n",
            "Feature: Dryer, Coef: 23.12005032741777\n",
            "Feature: Hot water, Coef: 8.983016371883203\n",
            "Feature: Hair dryer, Coef: 5.504567545738264\n",
            "Feature: Iron, Coef: 3.8152160092359515\n",
            "Feature: Hangers, Coef: 3.388545635658039\n",
            "Feature: TV, Coef: 18.78189990481452\n",
            "Feature: Kitchen, Coef: 15.464231517121203\n",
            "Feature: Wifi, Coef: 8.096428109944009\n",
            "Feature: bedrooms, Coef: 54.509755657319474\n",
            "Feature: bathrooms, Coef: 41.82568412103905\n",
            "Negatives\n",
            "Feature: Internet, Coef: -5.7438231137574105\n",
            "Feature: Shampoo, Coef: -2.6463070358145337\n",
            "Feature: Laptop friendly workspace, Coef: -3.9505129092879714\n",
            "Feature: Washer, Coef: -21.1904417066778\n",
            "Feature: Smoke detector, Coef: -0.0757402512441457\n",
            "Feature: Essentials, Coef: -48.16807099631269\n",
            "Feature: Heating, Coef: -11.546157113569064\n"
          ],
          "name": "stdout"
        }
      ]
    },
    {
      "cell_type": "code",
      "metadata": {
        "id": "Yfo3a9z6gbmD",
        "colab_type": "code",
        "colab": {}
      },
      "source": [
        "x, rnorm = nnls(X_train,y_train)"
      ],
      "execution_count": 0,
      "outputs": []
    },
    {
      "cell_type": "code",
      "metadata": {
        "id": "Hx3EgB4Uo7B9",
        "colab_type": "code",
        "colab": {
          "base_uri": "https://localhost:8080/",
          "height": 85
        },
        "outputId": "89e66c1a-2011-4467-a609-d5dd9830fa12"
      },
      "source": [
        "print(x)"
      ],
      "execution_count": 42,
      "outputs": [
        {
          "output_type": "stream",
          "text": [
            "[ 0.          0.         10.62694565  3.44705141  0.         14.54643802\n",
            " 15.72702677  6.51512023  2.30820011  0.          0.          0.\n",
            "  0.          0.         15.60455762  0.          0.          0.\n",
            "  0.          0.         53.55775886 40.01312475]\n"
          ],
          "name": "stdout"
        }
      ]
    },
    {
      "cell_type": "code",
      "metadata": {
        "id": "4i-Kc_cLo-CN",
        "colab_type": "code",
        "colab": {}
      },
      "source": [
        ""
      ],
      "execution_count": 0,
      "outputs": []
    }
  ]
}